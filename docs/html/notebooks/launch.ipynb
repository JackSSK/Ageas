{
 "cells": [
  {
   "cell_type": "markdown",
   "metadata": {},
   "source": [
    "# Launch AGEAS with ageas.Launch()\n",
    "\n",
    "This notebook demonstrate how to use ageas.Launch() in extracting key genomic features from Gene Expression Matrices(GEMs) containing RNA-seq based gene counts data of different sample groups.\n"
   ]
  },
  {
   "cell_type": "code",
   "execution_count": null,
   "metadata": {},
   "outputs": [],
   "source": [
    "import ageas"
   ]
  },
  {
   "cell_type": "markdown",
   "metadata": {},
   "source": [
    "\n",
    "Currently, AGEAS support data under two different formats:\n",
    "\n",
    "1. Dataframe under CSV or TXT format with rows representing genes and columns representing samples, which should looks like:\n",
    "\n",
    "\n",
    "\n",
    "   |                 | SRR1039509 | SRR1039512 | SRR1039513 | SRR1039516 | SRR1039508 |\n",
    "   |-----------------|------------|------------|------------|------------|------------|\n",
    "   | ENSG00000000003 | 679        | 448        | 873        | 408        | 1138       |\n",
    "   | ENSG00000000005 | 0          | 0          | 0          | 0          | 0          |\n",
    "   | ENSG00000000419 | 467        | 515        | 621        | 365        | 587        |\n",
    "   | ENSG00000000457 | 260        | 211        | 263        | 164        | 245        |\n",
    "   | ENSG00000000460 | 60         | 55         | 40         | 35         | 78         |\n",
    "   | ENSG00000000938 | 0          | 0          | 2          | 0          | 1          |\n",
    "\n",
    "   \n",
    "\n",
    "   Genes must either be named with Gene Symbols or Ensembl Gene IDs.\n",
    "\n",
    "   There is no requirement for sample name type. Barcodes, numbers, any artificial names can work.\n",
    "\n",
    "\n",
    "2. Market Exchange Format (MEX) output by [cellranger](https://github.com/10XGenomics/cellranger) pipeline. For more information: \n",
    "   https://support.10xgenomics.com/single-cell-gene-expression/software/pipelines/latest/output/matrices"
   ]
  },
  {
   "cell_type": "markdown",
   "metadata": {},
   "source": [
    "## CSV example:\n",
    "\n",
    "Extract key genomic factors to perform cell reprogramming from Mouse Embryonic Fibroblast(MEF) into Induced Pluripotent Stem Cell(iPSC), one of the most well known cell reprogramming case, with AGEAS.\n",
    "\n",
    "Here, we can use scRNA-seq data published as [GSE103221](https://www.ncbi.nlm.nih.gov/geo/query/acc.cgi?acc=GSE103221).\n",
    "\n",
    "Either raw data in GSE103221_RAW.tar or normalized counts in GSE103221_normalized_counts.csv.gz can be processed with AGEAS.\n",
    "\n",
    "For using raw data with AGEAS default settings:"
   ]
  },
  {
   "cell_type": "code",
   "execution_count": null,
   "metadata": {},
   "outputs": [],
   "source": [
    "# This part will be very computational expensive!\n",
    "# Feel free to skip to adjusted version below!\n",
    "\n",
    "ageas.Launch(\n",
    "\tgroup1_path = 'GSE103221_RAW/GSM3629847_10x_osk_mef.csv.gz',\n",
    "\tgroup2_path = 'GSE103221_RAW/GSM3629848_10x_osk_esc.csv.gz',\n",
    ")"
   ]
  },
  {
   "cell_type": "markdown",
   "metadata": {},
   "source": [
    "Few adjustments can be made with ageas.Launch() pipeline like:"
   ]
  },
  {
   "cell_type": "code",
   "execution_count": null,
   "metadata": {},
   "outputs": [],
   "source": [
    "test_raw = ageas.Launch(\n",
    "\tmute_unit = True,\n",
    "\tprotocol = 'multi',\n",
    "\tunit_num = 4,\n",
    "\n",
    "\t# ageas.Get_Pseudo_Samples() args\n",
    "\tgroup1_path = 'GSE103221_RAW/GSM3629847_10x_osk_mef.csv.gz',\n",
    "\tgroup2_path = 'GSE103221_RAW/GSM3629848_10x_osk_esc.csv.gz',\n",
    "\n",
    "\t# ageas.Unit() args\n",
    "\tstd_value_thread = 3.0,\n",
    ")"
   ]
  },
  {
   "cell_type": "markdown",
   "metadata": {},
   "source": [
    "Herein, instead of using 2 AGEAS extractor units by default, 4 units are used with **_unit_num = 4_**. Extraction result should be more generalized.\n",
    "\n",
    "To save running time, **_protocol = 'multi'_** set units to run parallelly with multithreading.\n",
    "\n",
    "With **_mute_unit = True_**, same as default setting, no log will be printed out by any unit.\n",
    "\n",
    "**_std_value_thread = 3.0_** can rule out genes with relatively low expression variability and, thus, limit amount of GRPs in meta level processed GRN and pseudo-sample GRNs.\n",
    "\n",
    "For more API information, please visit [documentaion page](https://nkmtmsys.github.io/Ageas/html/generated/ageas.Launch.html#ageas.Launch).\n",
    "\n",
    "Extraction reports can be saved as files with:"
   ]
  },
  {
   "cell_type": "code",
   "execution_count": null,
   "metadata": {},
   "outputs": [],
   "source": [
    "test_raw.save_reports(\n",
    "\tfolder_path = 'report_files/',\n",
    "\tsave_unit_reports = True\n",
    ")"
   ]
  },
  {
   "cell_type": "markdown",
   "metadata": {},
   "source": [
    "Within folder *report_files*. there should have following files:\n",
    "```bash\n",
    "report_files/\n",
    "    │\n",
    "    ├─ no_1/\n",
    "    │  ├─ grps_importances.txt\n",
    "    │  ├─ outlier_grps.js\n",
    "    │\n",
    "    ├─ no_2/\n",
    "    │\n",
    "    ├─ no_3/\n",
    "    │\n",
    "    ├─ no_4/\n",
    "    │\n",
    "    ├─ key_atlas.js\n",
    "    │\n",
    "    ├─ metaGRN.js\n",
    "    │\n",
    "    ├─ meta_report.csv\n",
    "    │\n",
    "    ├─ psGRNs.js\n",
    "    │\n",
    "    ├─ report.csv\n",
    "```\n",
    "\n",
    "Folders ***no_1***, ***no_2***, ***no_3***, ***no_4*** contain key Gene Regulatory Pathways(GRPs) extracted by each extractor unit as ***grps_importances.txt*** which has GRPs ranked with importance scores and ***outlier_grps.js*** which has GRPs once removed during feature selection due to extremly high importance score. If these information not needed, keep **_save_unit_reports_** as False by default.\n",
    "\n",
    "***metaGRN.js*** contains meta-level processed Gene Regulatory Networks(GRN) cast with all data in each sample group.\n",
    "\n",
    "***psGRNs.js*** contains GRNs cast with each pseudo-sample.\n",
    "\n",
    "***key_atlas.js*** contains regulons cast with all of the key GRPs extracted and bridge GRPs which can connect separate regulons to form larger network.\n",
    "\n",
    "***meta_report.csv*** is generated only with meta-GRN. Which should looks like:\n",
    "\n",
    "\n",
    "| ID     | Gene Symbol | Type | Degree | Log2FC           |\n",
    "|--------|-------------|------|--------|------------------|\n",
    "| Pou5f1 | Pou5f1      | TF   | 786    | 18.0654266535883 |\n",
    "| Trim28 | Trim28      | TF   | 727    | 16.7739633684336 |\n",
    "| Trp53  | Trp53       | TF   | 725    | 15.9708922902521 |\n",
    "| Rest   | Rest        | TF   | 695    | 15.0240141813129 |\n",
    "| Sox2   | Sox2        | TF   | 687    | 15.4459524481466 |\n",
    "| Junb   | Junb        | TF   | 683    | 14.1196706687477 |\n",
    "| Cebpb  | Cebpb       | TF   | 682    | 13.8599229728618 |\n",
    "\n",
    "\n",
    "***report.csv*** is generated with ***key_atlas.js***. Which should looks like:\n",
    "\n",
    "\n",
    "| ID     | Gene Symbol | Regulon   | Type | Source_Num | Target_Num | Meta_Degree | Log2FC              |\n",
    "|--------|-------------|-----------|------|------------|------------|--------------|--------------------|\n",
    "| Pou5f1 | Pou5f1      | regulon_0 | TF   | 5          | 68         | 786          | 18.065426653588275 |\n",
    "| Klf2   | Klf2        | regulon_0 | TF   | 0          | 71         | 592          | 17.77230812962195  |\n",
    "| Trim28 | Trim28      | regulon_0 | TF   | 8          | 136        | 727          | 16.77396336843356  |\n",
    "| Trp53  | Trp53       | regulon_0 | TF   | 7          | 133        | 724          | 15.97089229025213  |\n",
    "| Sox2   | Sox2        | regulon_0 | TF   | 3          | 83         | 687          | 15.44595244814661  |\n",
    "| Nanog  | Nanog       | regulon_0 | TF   | 4          | 81         | 656          | 15.417885470810674 |\n",
    "| Klf4   | Klf4        | regulon_0 | TF   | 3          | 62         | 428          | 15.348589852448784 |\n",
    "\n",
    "\n",
    "(I will add more explanation~)"
   ]
  },
  {
   "cell_type": "code",
   "execution_count": null,
   "metadata": {},
   "outputs": [],
   "source": [
    "import re\n",
    "import pandas as pd\n",
    "\n",
    "data = pd.read_csv('GSE103221_normalized_counts.csv', index_col = 0)\n",
    "\n",
    "mef_samples = [x for x in data if re.search(r'mef', x)]\n",
    "esc_samples = [x for x in data if re.search(r'esc', x)]\n",
    "\n",
    "data[mef_samples].to_csv('mef.csv.gz')\n",
    "data[esc_samples].to_csv('esc.csv.gz')"
   ]
  },
  {
   "cell_type": "code",
   "execution_count": null,
   "metadata": {},
   "outputs": [],
   "source": [
    "test_normalized = ageas.Launch(\n",
    "\tunit_num = 4,\n",
    "\n",
    "\tgroup1_path = 'mef.csv.gz',\n",
    "\tgroup2_path = 'esc.csv.gz',\n",
    "\tsliding_window_size = 10,\n",
    " \tsliding_window_stride = 1,\n",
    "\n",
    "\tlog2fc_thread = 3,\n",
    "\tstd_value_thread = 100,\n",
    ")\n",
    "\n",
    "test_normalized.save_reports(\n",
    "\tfolder_path = 'report_files/',\n",
    "\tsave_unit_reports = True\n",
    ")"
   ]
  },
  {
   "cell_type": "markdown",
   "metadata": {},
   "source": [
    "Considering the sample scale of raw data for each group is few thousands, generating pseudo-samples, which abstracts gene expressions from several distinct samples as continuous expression data in order to calculate gene expression correlations, with every 100 samples by default setting is acceptable.\n",
    "\n"
   ]
  }
 ],
 "metadata": {
  "kernelspec": {
   "display_name": "Python 3.9.13 64-bit (windows store)",
   "language": "python",
   "name": "python3"
  },
  "language_info": {
   "codemirror_mode": {
    "name": "ipython",
    "version": 3
   },
   "file_extension": ".py",
   "mimetype": "text/x-python",
   "name": "python",
   "nbconvert_exporter": "python",
   "pygments_lexer": "ipython3",
   "version": "3.9.13"
  },
  "vscode": {
   "interpreter": {
    "hash": "2a9e64e061ab733f2e33056f37bf3f62a8dd02da99810729dff6b17cfb3a5e9f"
   }
  }
 },
 "nbformat": 4,
 "nbformat_minor": 2
}
